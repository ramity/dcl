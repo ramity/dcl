{
 "cells": [
  {
   "cell_type": "code",
   "execution_count": 48,
   "id": "970f651f",
   "metadata": {
    "scrolled": true
   },
   "outputs": [
    {
     "name": "stdout",
     "output_type": "stream",
     "text": [
      "bytearray(b'\\x00\\x00\\x00\\x00\\x00\\x00\\x00\\x00\\x00\\x00\\x00\\x00\\x00\\x00\\x00\\x00\\x00\\x00\\x00\\x00\\x00\\x00\\x00\\x00\\x00\\x00\\x00\\x00\\x00\\x00\\x00\\x00\\x00\\x00\\x00\\x00\\x00\\x00\\x00\\x00\\x00\\x00\\x00\\x00\\x00\\x00\\x00\\x00\\x00\\x00\\x00\\x00\\x00\\x00\\x00\\x00\\x00\\x00\\x00\\x00\\x00\\x00\\x00\\x00\\x00\\x00\\x00\\x00\\x00\\x00\\x00\\x00\\x00\\x00\\x00\\x00\\x00\\x00\\x00\\x00\\x00\\x00\\x00\\x00\\x00\\x00\\x00\\x00\\x00\\x00\\x00\\x00\\x00\\x00\\x00\\x00\\x00\\x00\\x00\\x00\\x00\\x00\\x00')\n",
      "b'AAAAAAAAAAAAAAAAAAAAAAAAAAAAAAAAAAAAAAAAAAAAAAAAAAAAAAAAAAAAAAAAAAAAAAAAAAAAAAAAAAAAAAAAAAAAAAAAAAAAAAAAAAAAAAAAAAAAAAAAAAAAAAAAAAAAAAAAAA==\\x00'\n",
      "b'\\x00\\x00\\x00\\x00\\x00\\x00\\x00\\x00\\x00\\x00\\x00\\x00\\x00\\x00\\x00\\x00\\x00\\x00\\x00\\x00\\x00\\x00\\x00\\x00\\x00\\x00\\x00\\x00\\x00\\x00\\x00\\x00\\x00\\x00\\x00\\x00\\x00\\x00\\x00\\x00\\x00\\x00\\x00\\x00\\x00\\x00\\x00\\x00\\x00\\x00\\x00\\x00\\x00\\x00\\x00\\x00\\x00\\x00\\x00\\x00\\x00\\x00\\x00\\x00\\x00\\x00\\x00\\x00\\x00\\x00\\x00\\x00\\x00\\x00\\x00\\x00\\x00\\x00\\x00\\x00\\x00\\x00\\x00\\x00\\x00\\x00\\x00\\x00\\x00\\x00\\x00\\x00\\x00\\x00\\x00\\x00\\x00\\x00\\x00\\x00\\x00\\x00\\x00'\n",
      "103\n",
      "141\n",
      "103\n",
      "0\n",
      "61\n",
      "61\n",
      "65\n"
     ]
    }
   ],
   "source": [
    "import base64\n",
    "\n",
    "buffer = bytearray(103)\n",
    "buffer_ref = memoryview(buffer)\n",
    "\n",
    "encoded_bytes = base64.b64encode(buffer_ref) + int(0).to_bytes(1, byteorder='big', signed=False)\n",
    "encoded_buffer_ref = memoryview(encoded_bytes)\n",
    "\n",
    "decoded_bytes = base64.b64decode(encoded_buffer_ref)\n",
    "decoded_buffer_ref = memoryview(decoded_bytes)\n",
    "\n",
    "print(buffer)\n",
    "print(encoded_bytes)\n",
    "print(decoded_bytes)\n",
    "\n",
    "print(len(buffer))\n",
    "print(len(encoded_bytes))\n",
    "print(len(decoded_bytes))\n",
    "\n",
    "print(encoded_buffer_ref[-1])\n",
    "print(encoded_buffer_ref[-2])\n",
    "print(encoded_buffer_ref[-3])\n",
    "print(encoded_buffer_ref[-4])"
   ]
  },
  {
   "cell_type": "code",
   "execution_count": null,
   "id": "ac345ea2",
   "metadata": {},
   "outputs": [],
   "source": []
  }
 ],
 "metadata": {
  "kernelspec": {
   "display_name": "Python 3 (ipykernel)",
   "language": "python",
   "name": "python3"
  },
  "language_info": {
   "codemirror_mode": {
    "name": "ipython",
    "version": 3
   },
   "file_extension": ".py",
   "mimetype": "text/x-python",
   "name": "python",
   "nbconvert_exporter": "python",
   "pygments_lexer": "ipython3",
   "version": "3.10.4"
  }
 },
 "nbformat": 4,
 "nbformat_minor": 5
}
