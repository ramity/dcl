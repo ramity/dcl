{
 "cells": [
  {
   "cell_type": "code",
   "execution_count": 13,
   "id": "6c152f2d",
   "metadata": {},
   "outputs": [
    {
     "ename": "TypeError",
     "evalue": "unsupported operand type(s) for +: 'float' and 'str'",
     "output_type": "error",
     "traceback": [
      "\u001b[0;31m---------------------------------------------------------------------------\u001b[0m",
      "\u001b[0;31mTypeError\u001b[0m                                 Traceback (most recent call last)",
      "\u001b[0;32m<ipython-input-13-35a684fbc26f>\u001b[0m in \u001b[0;36m<module>\u001b[0;34m\u001b[0m\n\u001b[1;32m     30\u001b[0m     \u001b[0mgflops\u001b[0m \u001b[0;34m=\u001b[0m \u001b[0mflops\u001b[0m \u001b[0;34m/\u001b[0m \u001b[0;34m(\u001b[0m\u001b[0;36m10\u001b[0m \u001b[0;34m**\u001b[0m \u001b[0;36m9\u001b[0m\u001b[0;34m)\u001b[0m\u001b[0;34m\u001b[0m\u001b[0m\n\u001b[1;32m     31\u001b[0m \u001b[0;34m\u001b[0m\u001b[0m\n\u001b[0;32m---> 32\u001b[0;31m     \u001b[0mprint\u001b[0m\u001b[0;34m(\u001b[0m\u001b[0mtask_count\u001b[0m\u001b[0;34m,\u001b[0m \u001b[0mmb_size\u001b[0m \u001b[0;34m+\u001b[0m \u001b[0;34m\" mb\"\u001b[0m\u001b[0;34m,\u001b[0m \u001b[0mmflops\u001b[0m\u001b[0;34m)\u001b[0m\u001b[0;34m\u001b[0m\u001b[0m\n\u001b[0m",
      "\u001b[0;31mTypeError\u001b[0m: unsupported operand type(s) for +: 'float' and 'str'"
     ]
    }
   ],
   "source": [
    "import numpy\n",
    "import time\n",
    "import sys\n",
    "\n",
    "tasks = [1, 2, 4, 8, 16, 32, 64, 128, 256, 512, 1024, 2048, 4096, 8192, 16384]\n",
    "size = 1024\n",
    "a = numpy.random.random_sample((size,1))\n",
    "b = numpy.random.random_sample((1,size))\n",
    "\n",
    "for task_count in tasks:\n",
    "    \n",
    "    start = time.perf_counter()\n",
    "    \n",
    "    for task_index in range(0, task_count):\n",
    "        c = numpy.dot(a, b)\n",
    "    \n",
    "    end = time.perf_counter()\n",
    "    delta = end - start\n",
    "\n",
    "    c_bytes = c.tobytes()\n",
    "    \n",
    "    b_size = sys.getsizeof(c_bytes) * task_count\n",
    "    mb_size = b_size / (10 ** 6)\n",
    "    gb_size = b_size / (10 ** 9)\n",
    "    \n",
    "    operations_per_task = size * size\n",
    "    tasks_per_second = task_count / delta\n",
    "    flops = task_count * operations_per_task * tasks_per_second\n",
    "    mflops = flops / (10 ** 6)\n",
    "    gflops = flops / (10 ** 9)\n",
    "    \n",
    "    print(\"task_count: {} @size {}mb => {} mflops)"
   ]
  },
  {
   "cell_type": "code",
   "execution_count": null,
   "id": "6faa4b1b",
   "metadata": {},
   "outputs": [],
   "source": []
  }
 ],
 "metadata": {
  "kernelspec": {
   "display_name": "Python 3",
   "language": "python",
   "name": "python3"
  },
  "language_info": {
   "codemirror_mode": {
    "name": "ipython",
    "version": 3
   },
   "file_extension": ".py",
   "mimetype": "text/x-python",
   "name": "python",
   "nbconvert_exporter": "python",
   "pygments_lexer": "ipython3",
   "version": "3.5.10"
  }
 },
 "nbformat": 4,
 "nbformat_minor": 5
}
