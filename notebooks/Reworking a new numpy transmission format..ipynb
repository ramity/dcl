{
 "cells": [
  {
   "cell_type": "markdown",
   "id": "7e1a5af0",
   "metadata": {},
   "source": [
    "# Preliminary tests"
   ]
  },
  {
   "cell_type": "code",
   "execution_count": 1,
   "id": "f89e48cf",
   "metadata": {},
   "outputs": [
    {
     "name": "stdout",
     "output_type": "stream",
     "text": [
      "generation: 0.3575 seconds\n",
      "conversion to bytes: 0.0379 seconds\n",
      "bytes to hex: 0.1420 seconds\n",
      "bytes to string: 0.6559 seconds\n",
      "bytes to base64: 0.1688 seconds\n",
      "chunking: 0.0003 seconds\n",
      "chunk_conversion_to_bytes_time: 0.0372 seconds\n",
      "chunk_conversion_to_hex_time: 0.1422 seconds\n",
      "chunk_conversion_to_string_time: 0.6571 seconds\n",
      "chunk_conversion_to_base64_time: 0.1677 seconds\n"
     ]
    }
   ],
   "source": [
    "import numpy\n",
    "import time\n",
    "import sys\n",
    "import base64\n",
    "\n",
    "\n",
    "numpy.random.seed(23)\n",
    "\n",
    "\n",
    "generation_start = time.perf_counter()\n",
    "a = numpy.random.randn(2048, 2048) * 0.01\n",
    "b = numpy.random.randn(2048, 2048) * 0.01\n",
    "generation_end = time.perf_counter()\n",
    "\n",
    "\n",
    "schedulers = 5\n",
    "\n",
    "\n",
    "conversion_to_bytes_start = time.perf_counter()\n",
    "a_bytes = a.tobytes()\n",
    "b_bytes = b.tobytes()\n",
    "conversion_to_bytes_end = time.perf_counter()\n",
    "\n",
    "\n",
    "conversion_to_hex_start = time.perf_counter()\n",
    "a_hex = a_bytes.hex()\n",
    "b_hex = b_bytes.hex()\n",
    "conversion_to_hex_end = time.perf_counter()\n",
    "\n",
    "\n",
    "conversion_to_string_start = time.perf_counter()\n",
    "a_str = str(a_bytes)\n",
    "b_str = str(b_bytes)\n",
    "conversion_to_string_end = time.perf_counter()\n",
    "\n",
    "\n",
    "conversion_to_base64_start = time.perf_counter()\n",
    "a_base64 = base64.b64encode(a_bytes)\n",
    "b_base64 = base64.b64encode(b_bytes)\n",
    "conversion_to_base64_end = time.perf_counter()\n",
    "\n",
    "\n",
    "chunking_start = time.perf_counter()\n",
    "a_chunks = numpy.array_split(a, schedulers)\n",
    "b_chunks = numpy.array_split(b, schedulers)\n",
    "chunking_end = time.perf_counter()\n",
    "\n",
    "\n",
    "chunk_conversion_to_bytes_start = time.perf_counter()\n",
    "a_chunk_bytes = [a.tobytes() for a in a_chunks]\n",
    "b_chunk_bytes = [b.tobytes() for b in b_chunks]\n",
    "chunk_conversion_to_bytes_end = time.perf_counter()\n",
    "\n",
    "\n",
    "chunk_conversion_to_hex_start = time.perf_counter()\n",
    "a_chunk_hex = [a.hex() for a in a_chunk_bytes]\n",
    "b_chunk_hex = [b.hex() for b in b_chunk_bytes]\n",
    "chunk_conversion_to_hex_end = time.perf_counter()\n",
    "\n",
    "\n",
    "chunk_conversion_to_string_start = time.perf_counter()\n",
    "a_chunk_str = [str(a) for a in a_chunk_bytes]\n",
    "b_chunk_str = [str(b) for b in b_chunk_bytes]\n",
    "chunk_conversion_to_string_end = time.perf_counter()\n",
    "\n",
    "\n",
    "chunk_conversion_to_base64_start = time.perf_counter()\n",
    "a_chunk_base64 = [base64.b64encode(a) for a in a_chunk_bytes]\n",
    "b_chunk_base64 = [base64.b64encode(b) for b in b_chunk_bytes]\n",
    "chunk_conversion_to_base64_end = time.perf_counter()\n",
    "\n",
    "\n",
    "# ------------------------------------------------------------------------------------------------------------------------------\n",
    "\n",
    "\n",
    "generation_time = generation_end - generation_start\n",
    "conversion_to_bytes_time = conversion_to_bytes_end - conversion_to_bytes_start\n",
    "conversion_to_hex_time = conversion_to_hex_end - conversion_to_hex_start\n",
    "conversion_to_string_time = conversion_to_string_end - conversion_to_string_start\n",
    "conversion_to_base64_time = conversion_to_base64_end - conversion_to_base64_start\n",
    "chunking_time = chunking_end - chunking_start\n",
    "chunk_conversion_to_bytes_time = chunk_conversion_to_bytes_end - chunk_conversion_to_bytes_start\n",
    "chunk_conversion_to_hex_time = chunk_conversion_to_hex_end - chunk_conversion_to_hex_start\n",
    "chunk_conversion_to_string_time = chunk_conversion_to_string_end - chunk_conversion_to_string_start\n",
    "chunk_conversion_to_base64_time = chunk_conversion_to_base64_end - chunk_conversion_to_base64_start\n",
    "\n",
    "print(\"generation: {:.4f} seconds\".format(generation_time))\n",
    "print(\"conversion to bytes: {:.4f} seconds\".format(conversion_to_bytes_time))\n",
    "print(\"bytes to hex: {:.4f} seconds\".format(conversion_to_hex_time))\n",
    "print(\"bytes to string: {:.4f} seconds\".format(conversion_to_string_time))\n",
    "print(\"bytes to base64: {:.4f} seconds\".format(conversion_to_base64_time))\n",
    "print(\"chunking: {:.4f} seconds\".format(chunking_time))\n",
    "print(\"chunk_conversion_to_bytes_time: {:.4f} seconds\".format(chunk_conversion_to_bytes_time))\n",
    "print(\"chunk_conversion_to_hex_time: {:.4f} seconds\".format(chunk_conversion_to_hex_time))\n",
    "print(\"chunk_conversion_to_string_time: {:.4f} seconds\".format(chunk_conversion_to_string_time))\n",
    "print(\"chunk_conversion_to_base64_time: {:.4f} seconds\".format(chunk_conversion_to_base64_time))"
   ]
  },
  {
   "cell_type": "markdown",
   "id": "4ef9e34c",
   "metadata": {},
   "source": [
    "# Size related tests"
   ]
  },
  {
   "cell_type": "code",
   "execution_count": 2,
   "id": "2512f901",
   "metadata": {},
   "outputs": [
    {
     "name": "stdout",
     "output_type": "stream",
     "text": [
      "a: 33.5546 mb\n",
      "b: 33.5546 mb\n",
      "a bytes: 33.5545 mb\n",
      "b bytes: 33.5545 mb\n",
      "a hex: 67.1089 mb\n",
      "b hex: 67.1089 mb\n",
      "a string 92.6897 mb\n",
      "b string 92.6906 mb\n",
      "a base64: 44.7393 mb\n",
      "b base64: 44.7393 mb\n"
     ]
    }
   ],
   "source": [
    "print(\"a: {:.4f} mb\".format(sys.getsizeof(a) / (10 ** 6)))\n",
    "print(\"b: {:.4f} mb\".format(sys.getsizeof(b) / (10 ** 6)))\n",
    "print(\"a bytes: {:.4f} mb\".format(sys.getsizeof(a_bytes) / (10 ** 6)))\n",
    "print(\"b bytes: {:.4f} mb\".format(sys.getsizeof(b_bytes) / (10 ** 6)))\n",
    "print(\"a hex: {:.4f} mb\".format(sys.getsizeof(a_hex) / (10 ** 6)))\n",
    "print(\"b hex: {:.4f} mb\".format(sys.getsizeof(b_hex) / (10 ** 6)))\n",
    "print(\"a string {:.4f} mb\".format(sys.getsizeof(a_str) / (10 ** 6)))\n",
    "print(\"b string {:.4f} mb\".format(sys.getsizeof(b_str) / (10 ** 6)))\n",
    "print(\"a base64: {:.4f} mb\".format(sys.getsizeof(a_base64) / (10 ** 6)))\n",
    "print(\"b base64: {:.4f} mb\".format(sys.getsizeof(b_base64) / (10 ** 6)))"
   ]
  },
  {
   "cell_type": "markdown",
   "id": "c1fa29a3",
   "metadata": {},
   "source": [
    "# Decoding comparison tests"
   ]
  },
  {
   "cell_type": "code",
   "execution_count": 3,
   "id": "dd460eee",
   "metadata": {},
   "outputs": [
    {
     "name": "stdout",
     "output_type": "stream",
     "text": [
      "a_bytes_from_hex: 0.0795 seconds\n",
      "a_bytes_from_base64: 0.0694 seconds\n"
     ]
    }
   ],
   "source": [
    "a_bytes_from_hex_start = time.perf_counter()\n",
    "a_bytes_from_hex = bytes.fromhex(a_hex)\n",
    "a_bytes_from_hex_end = time.perf_counter()\n",
    "a_bytes_from_hex_time = a_bytes_from_hex_end - a_bytes_from_hex_start\n",
    "print(\"a_bytes_from_hex: {:.4f} seconds\".format(a_bytes_from_hex_time))\n",
    "\n",
    "a_bytes_from_base64_start = time.perf_counter()\n",
    "a_bytes_from_base64 = base64.b64decode(a_base64)\n",
    "a_bytes_from_base64_end = time.perf_counter()\n",
    "a_bytes_from_base64_time = a_bytes_from_base64_end - a_bytes_from_base64_start\n",
    "print(\"a_bytes_from_base64: {:.4f} seconds\".format(a_bytes_from_base64_time))"
   ]
  },
  {
   "cell_type": "markdown",
   "id": "7c396e01",
   "metadata": {},
   "source": [
    "# Computation for relative performance comparisons"
   ]
  },
  {
   "cell_type": "code",
   "execution_count": 4,
   "id": "9bd97a7b",
   "metadata": {},
   "outputs": [
    {
     "name": "stdout",
     "output_type": "stream",
     "text": [
      "computation_time: 0.1332 seconds\n"
     ]
    }
   ],
   "source": [
    "computation_start = time.perf_counter()\n",
    "c = numpy.dot(a, b)\n",
    "computation_end = time.perf_counter()\n",
    "computation_time = computation_end - computation_start\n",
    "print(\"computation_time: {:.4f} seconds\".format(computation_time))"
   ]
  },
  {
   "cell_type": "markdown",
   "id": "417a45e0",
   "metadata": {},
   "source": [
    "Notes:\n",
    "---\n",
    "\n",
    "- Faster to post array via redis set than transmit via fastapi.\n",
    "    - I should implement this such that the analyst creates the job but "
   ]
  },
  {
   "cell_type": "code",
   "execution_count": null,
   "id": "5b37afae",
   "metadata": {},
   "outputs": [],
   "source": []
  }
 ],
 "metadata": {
  "kernelspec": {
   "display_name": "Python 3 (ipykernel)",
   "language": "python",
   "name": "python3"
  },
  "language_info": {
   "codemirror_mode": {
    "name": "ipython",
    "version": 3
   },
   "file_extension": ".py",
   "mimetype": "text/x-python",
   "name": "python",
   "nbconvert_exporter": "python",
   "pygments_lexer": "ipython3",
   "version": "3.10.0"
  }
 },
 "nbformat": 4,
 "nbformat_minor": 5
}
