{
 "cells": [
  {
   "cell_type": "markdown",
   "id": "5a3a3bd6",
   "metadata": {},
   "source": [
    "# Simple dot computation"
   ]
  },
  {
   "cell_type": "code",
   "execution_count": 51,
   "id": "4f401f50",
   "metadata": {
    "scrolled": false
   },
   "outputs": [
    {
     "name": "stdout",
     "output_type": "stream",
     "text": [
      "ba7a01abc91f683f\n",
      "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\n"
     ]
    }
   ],
   "source": [
    "import numpy\n",
    "\n",
    "a = numpy.random.randn(1) * 0.01\n",
    "a_bytes = a.tobytes()\n",
    "a_hex_string = a_bytes.hex()\n",
    "a_bytes_conv = bytes.fromhex(a_hex_string)\n",
    "a_conv = numpy.frombuffer(a_bytes_conv)\n",
    "\n",
    "print(a_hex_string)\n",
    "\n",
    "b = numpy.random.randn(128) * 0.01\n",
    "b_bytes = b.tobytes()\n",
    "b_hex_string = b_bytes.hex()\n",
    "b_bytes_conv = bytes.fromhex(b_hex_string)\n",
    "b_conv = numpy.frombuffer(b_bytes_conv)\n",
    "\n",
    "print(b_hex_string)"
   ]
  },
  {
   "cell_type": "code",
   "execution_count": 58,
   "id": "c83ab449",
   "metadata": {},
   "outputs": [
    {
     "name": "stdout",
     "output_type": "stream",
     "text": [
      "[[ True  True  True  True  True  True  True  True  True  True  True  True\n",
      "   True  True  True  True  True  True  True  True  True  True  True  True\n",
      "   True  True  True  True  True  True  True  True  True  True  True  True\n",
      "   True  True  True  True  True  True  True  True  True  True  True  True\n",
      "   True  True  True  True  True  True  True  True  True  True  True  True\n",
      "   True  True  True  True  True  True  True  True  True  True  True  True\n",
      "   True  True  True  True  True  True  True  True  True  True  True  True\n",
      "   True  True  True  True  True  True  True  True  True  True  True  True\n",
      "   True  True  True  True  True  True  True  True  True  True  True  True\n",
      "   True  True  True  True  True  True  True  True  True  True  True  True\n",
      "   True  True  True  True  True  True  True  True]]\n"
     ]
    }
   ],
   "source": [
    "response = '\"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\"'\n",
    "response = response[1:-1]\n",
    "c = numpy.frombuffer(bytes.fromhex(response))\n",
    "\n",
    "print(c == numpy.dot(a.reshape((1,1)), b.reshape(1,128)))"
   ]
  },
  {
   "cell_type": "code",
   "execution_count": null,
   "id": "570c687d",
   "metadata": {},
   "outputs": [],
   "source": []
  }
 ],
 "metadata": {
  "kernelspec": {
   "display_name": "Python 3",
   "language": "python",
   "name": "python3"
  },
  "language_info": {
   "codemirror_mode": {
    "name": "ipython",
    "version": 3
   },
   "file_extension": ".py",
   "mimetype": "text/x-python",
   "name": "python",
   "nbconvert_exporter": "python",
   "pygments_lexer": "ipython3",
   "version": "3.5.10"
  }
 },
 "nbformat": 4,
 "nbformat_minor": 5
}
