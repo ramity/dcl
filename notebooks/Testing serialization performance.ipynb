{
 "cells": [
  {
   "cell_type": "markdown",
   "id": "da5f23f1",
   "metadata": {},
   "source": [
    "# Computation class"
   ]
  },
  {
   "cell_type": "code",
   "execution_count": null,
   "id": "b3349978",
   "metadata": {},
   "outputs": [],
   "source": []
  },
  {
   "cell_type": "markdown",
   "id": "fd00af72",
   "metadata": {},
   "source": [
    "# Pickle performance"
   ]
  },
  {
   "cell_type": "code",
   "execution_count": null,
   "id": "c7acc55e",
   "metadata": {},
   "outputs": [],
   "source": []
  },
  {
   "cell_type": "markdown",
   "id": "6c7edb75",
   "metadata": {},
   "source": [
    "# JSON object to bytes to b64 encode"
   ]
  },
  {
   "cell_type": "code",
   "execution_count": null,
   "id": "4500fdf3",
   "metadata": {},
   "outputs": [],
   "source": []
  }
 ],
 "metadata": {
  "kernelspec": {
   "display_name": "Python 3 (ipykernel)",
   "language": "python",
   "name": "python3"
  },
  "language_info": {
   "codemirror_mode": {
    "name": "ipython",
    "version": 3
   },
   "file_extension": ".py",
   "mimetype": "text/x-python",
   "name": "python",
   "nbconvert_exporter": "python",
   "pygments_lexer": "ipython3",
   "version": "3.10.4"
  }
 },
 "nbformat": 4,
 "nbformat_minor": 5
}
